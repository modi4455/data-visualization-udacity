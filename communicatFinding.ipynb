{
 "cells": [
  {
   "cell_type": "markdown",
   "metadata": {},
   "source": [
    "# An Investigation of US Flights from 2008 <br/>\n",
    "### by modhi alhabradi"
   ]
  },
  {
   "cell_type": "markdown",
   "metadata": {},
   "source": [
    "### Introduction<br/>\n",
    "This dataset reports flights in the United States, including carriers, arrival and departure delays, and reasons for delays, for 2008. Data links:<br/>\n",
    "\n",
    "Statistical Computing | Statistical Graphics: http://stat-computing.org/dataexpo/2009/the-data.html<br/>\n",
    "\n",
    "The flight data may provide insight into what time of year to avoid traveling within the US based on delays and cancellations.<br/> We can also investigate where, or which airports, offer the best (or worst) flight experiences based on similar issues.<br/> Additionally, it may be interesting to understand why flights that are cancelled get cancelled and how long a delay take before becoming a cancellation."
   ]
  },
  {
   "cell_type": "code",
   "execution_count": 1,
   "metadata": {},
   "outputs": [],
   "source": [
    "import pandas as pd\n",
    "import numpy as np\n",
    "import matplotlib.pyplot as plt\n",
    "import seaborn as sb\n",
    "%matplotlib inline"
   ]
  },
  {
   "cell_type": "markdown",
   "metadata": {},
   "source": [
    "### Data Wrangling<br/>\n",
    "In this section of the report, we load in the data, check for cleanliness, and then trim and clean the dataset for analysis."
   ]
  },
  {
   "cell_type": "code",
   "execution_count": 2,
   "metadata": {},
   "outputs": [
    {
     "data": {
      "text/html": [
       "<div>\n",
       "<style scoped>\n",
       "    .dataframe tbody tr th:only-of-type {\n",
       "        vertical-align: middle;\n",
       "    }\n",
       "\n",
       "    .dataframe tbody tr th {\n",
       "        vertical-align: top;\n",
       "    }\n",
       "\n",
       "    .dataframe thead th {\n",
       "        text-align: right;\n",
       "    }\n",
       "</style>\n",
       "<table border=\"1\" class=\"dataframe\">\n",
       "  <thead>\n",
       "    <tr style=\"text-align: right;\">\n",
       "      <th></th>\n",
       "      <th>Year</th>\n",
       "      <th>Month</th>\n",
       "      <th>DayofMonth</th>\n",
       "      <th>DayOfWeek</th>\n",
       "      <th>DepTime</th>\n",
       "      <th>CRSDepTime</th>\n",
       "      <th>ArrTime</th>\n",
       "      <th>CRSArrTime</th>\n",
       "      <th>UniqueCarrier</th>\n",
       "      <th>FlightNum</th>\n",
       "      <th>...</th>\n",
       "      <th>TaxiIn</th>\n",
       "      <th>TaxiOut</th>\n",
       "      <th>Cancelled</th>\n",
       "      <th>CancellationCode</th>\n",
       "      <th>Diverted</th>\n",
       "      <th>CarrierDelay</th>\n",
       "      <th>WeatherDelay</th>\n",
       "      <th>NASDelay</th>\n",
       "      <th>SecurityDelay</th>\n",
       "      <th>LateAircraftDelay</th>\n",
       "    </tr>\n",
       "  </thead>\n",
       "  <tbody>\n",
       "    <tr>\n",
       "      <th>0</th>\n",
       "      <td>2008</td>\n",
       "      <td>1</td>\n",
       "      <td>3</td>\n",
       "      <td>4</td>\n",
       "      <td>2003.0</td>\n",
       "      <td>1955</td>\n",
       "      <td>2211.0</td>\n",
       "      <td>2225</td>\n",
       "      <td>WN</td>\n",
       "      <td>335</td>\n",
       "      <td>...</td>\n",
       "      <td>4.0</td>\n",
       "      <td>8.0</td>\n",
       "      <td>0</td>\n",
       "      <td>NaN</td>\n",
       "      <td>0</td>\n",
       "      <td>NaN</td>\n",
       "      <td>NaN</td>\n",
       "      <td>NaN</td>\n",
       "      <td>NaN</td>\n",
       "      <td>NaN</td>\n",
       "    </tr>\n",
       "    <tr>\n",
       "      <th>1</th>\n",
       "      <td>2008</td>\n",
       "      <td>1</td>\n",
       "      <td>3</td>\n",
       "      <td>4</td>\n",
       "      <td>754.0</td>\n",
       "      <td>735</td>\n",
       "      <td>1002.0</td>\n",
       "      <td>1000</td>\n",
       "      <td>WN</td>\n",
       "      <td>3231</td>\n",
       "      <td>...</td>\n",
       "      <td>5.0</td>\n",
       "      <td>10.0</td>\n",
       "      <td>0</td>\n",
       "      <td>NaN</td>\n",
       "      <td>0</td>\n",
       "      <td>NaN</td>\n",
       "      <td>NaN</td>\n",
       "      <td>NaN</td>\n",
       "      <td>NaN</td>\n",
       "      <td>NaN</td>\n",
       "    </tr>\n",
       "    <tr>\n",
       "      <th>2</th>\n",
       "      <td>2008</td>\n",
       "      <td>1</td>\n",
       "      <td>3</td>\n",
       "      <td>4</td>\n",
       "      <td>628.0</td>\n",
       "      <td>620</td>\n",
       "      <td>804.0</td>\n",
       "      <td>750</td>\n",
       "      <td>WN</td>\n",
       "      <td>448</td>\n",
       "      <td>...</td>\n",
       "      <td>3.0</td>\n",
       "      <td>17.0</td>\n",
       "      <td>0</td>\n",
       "      <td>NaN</td>\n",
       "      <td>0</td>\n",
       "      <td>NaN</td>\n",
       "      <td>NaN</td>\n",
       "      <td>NaN</td>\n",
       "      <td>NaN</td>\n",
       "      <td>NaN</td>\n",
       "    </tr>\n",
       "    <tr>\n",
       "      <th>3</th>\n",
       "      <td>2008</td>\n",
       "      <td>1</td>\n",
       "      <td>3</td>\n",
       "      <td>4</td>\n",
       "      <td>926.0</td>\n",
       "      <td>930</td>\n",
       "      <td>1054.0</td>\n",
       "      <td>1100</td>\n",
       "      <td>WN</td>\n",
       "      <td>1746</td>\n",
       "      <td>...</td>\n",
       "      <td>3.0</td>\n",
       "      <td>7.0</td>\n",
       "      <td>0</td>\n",
       "      <td>NaN</td>\n",
       "      <td>0</td>\n",
       "      <td>NaN</td>\n",
       "      <td>NaN</td>\n",
       "      <td>NaN</td>\n",
       "      <td>NaN</td>\n",
       "      <td>NaN</td>\n",
       "    </tr>\n",
       "    <tr>\n",
       "      <th>4</th>\n",
       "      <td>2008</td>\n",
       "      <td>1</td>\n",
       "      <td>3</td>\n",
       "      <td>4</td>\n",
       "      <td>1829.0</td>\n",
       "      <td>1755</td>\n",
       "      <td>1959.0</td>\n",
       "      <td>1925</td>\n",
       "      <td>WN</td>\n",
       "      <td>3920</td>\n",
       "      <td>...</td>\n",
       "      <td>3.0</td>\n",
       "      <td>10.0</td>\n",
       "      <td>0</td>\n",
       "      <td>NaN</td>\n",
       "      <td>0</td>\n",
       "      <td>2.0</td>\n",
       "      <td>0.0</td>\n",
       "      <td>0.0</td>\n",
       "      <td>0.0</td>\n",
       "      <td>32.0</td>\n",
       "    </tr>\n",
       "  </tbody>\n",
       "</table>\n",
       "<p>5 rows × 29 columns</p>\n",
       "</div>"
      ],
      "text/plain": [
       "   Year  Month  DayofMonth  DayOfWeek  DepTime  CRSDepTime  ArrTime  \\\n",
       "0  2008      1           3          4   2003.0        1955   2211.0   \n",
       "1  2008      1           3          4    754.0         735   1002.0   \n",
       "2  2008      1           3          4    628.0         620    804.0   \n",
       "3  2008      1           3          4    926.0         930   1054.0   \n",
       "4  2008      1           3          4   1829.0        1755   1959.0   \n",
       "\n",
       "   CRSArrTime UniqueCarrier  FlightNum        ...         TaxiIn  TaxiOut  \\\n",
       "0        2225            WN        335        ...            4.0      8.0   \n",
       "1        1000            WN       3231        ...            5.0     10.0   \n",
       "2         750            WN        448        ...            3.0     17.0   \n",
       "3        1100            WN       1746        ...            3.0      7.0   \n",
       "4        1925            WN       3920        ...            3.0     10.0   \n",
       "\n",
       "   Cancelled  CancellationCode  Diverted  CarrierDelay WeatherDelay NASDelay  \\\n",
       "0          0               NaN         0           NaN          NaN      NaN   \n",
       "1          0               NaN         0           NaN          NaN      NaN   \n",
       "2          0               NaN         0           NaN          NaN      NaN   \n",
       "3          0               NaN         0           NaN          NaN      NaN   \n",
       "4          0               NaN         0           2.0          0.0      0.0   \n",
       "\n",
       "   SecurityDelay  LateAircraftDelay  \n",
       "0            NaN                NaN  \n",
       "1            NaN                NaN  \n",
       "2            NaN                NaN  \n",
       "3            NaN                NaN  \n",
       "4            0.0               32.0  \n",
       "\n",
       "[5 rows x 29 columns]"
      ]
     },
     "execution_count": 2,
     "metadata": {},
     "output_type": "execute_result"
    }
   ],
   "source": [
    "df_full = pd.read_csv('2008.csv')\n",
    "df_full.head()"
   ]
  },
  {
   "cell_type": "code",
   "execution_count": 3,
   "metadata": {},
   "outputs": [
    {
     "data": {
      "text/plain": [
       "(7009728, 29)"
      ]
     },
     "execution_count": 3,
     "metadata": {},
     "output_type": "execute_result"
    }
   ],
   "source": [
    "df_full.shape"
   ]
  },
  {
   "cell_type": "code",
   "execution_count": 4,
   "metadata": {},
   "outputs": [],
   "source": [
    "# Before inital exploration and cleaning begins, make a copy of the original dataframe:\n",
    "df = df_full.copy()"
   ]
  },
  {
   "cell_type": "code",
   "execution_count": 5,
   "metadata": {},
   "outputs": [
    {
     "name": "stdout",
     "output_type": "stream",
     "text": [
      "<class 'pandas.core.frame.DataFrame'>\n",
      "RangeIndex: 7009728 entries, 0 to 7009727\n",
      "Data columns (total 29 columns):\n",
      "Year                 int64\n",
      "Month                int64\n",
      "DayofMonth           int64\n",
      "DayOfWeek            int64\n",
      "DepTime              float64\n",
      "CRSDepTime           int64\n",
      "ArrTime              float64\n",
      "CRSArrTime           int64\n",
      "UniqueCarrier        object\n",
      "FlightNum            int64\n",
      "TailNum              object\n",
      "ActualElapsedTime    float64\n",
      "CRSElapsedTime       float64\n",
      "AirTime              float64\n",
      "ArrDelay             float64\n",
      "DepDelay             float64\n",
      "Origin               object\n",
      "Dest                 object\n",
      "Distance             int64\n",
      "TaxiIn               float64\n",
      "TaxiOut              float64\n",
      "Cancelled            int64\n",
      "CancellationCode     object\n",
      "Diverted             int64\n",
      "CarrierDelay         float64\n",
      "WeatherDelay         float64\n",
      "NASDelay             float64\n",
      "SecurityDelay        float64\n",
      "LateAircraftDelay    float64\n",
      "dtypes: float64(14), int64(10), object(5)\n",
      "memory usage: 1.5+ GB\n"
     ]
    }
   ],
   "source": [
    "# Basic column info/ data types\n",
    "df.info()"
   ]
  },
  {
   "cell_type": "code",
   "execution_count": 7,
   "metadata": {},
   "outputs": [
    {
     "data": {
      "text/plain": [
       "Year                       0\n",
       "Month                      0\n",
       "DayofMonth                 0\n",
       "DayOfWeek                  0\n",
       "DepTime               136246\n",
       "CRSDepTime                 0\n",
       "ArrTime               151649\n",
       "CRSArrTime                 0\n",
       "UniqueCarrier              0\n",
       "FlightNum                  0\n",
       "TailNum                83365\n",
       "ActualElapsedTime     154699\n",
       "CRSElapsedTime           844\n",
       "AirTime               154699\n",
       "ArrDelay              154699\n",
       "DepDelay              136246\n",
       "Origin                     0\n",
       "Dest                       0\n",
       "Distance                   0\n",
       "TaxiIn                151649\n",
       "TaxiOut               137058\n",
       "Cancelled                  0\n",
       "CancellationCode     6872294\n",
       "Diverted                   0\n",
       "CarrierDelay         5484993\n",
       "WeatherDelay         5484993\n",
       "NASDelay             5484993\n",
       "SecurityDelay        5484993\n",
       "LateAircraftDelay    5484993\n",
       "dtype: int64"
      ]
     },
     "execution_count": 7,
     "metadata": {},
     "output_type": "execute_result"
    }
   ],
   "source": [
    "# Number of Nulls per Column\n",
    "df.isna().sum()"
   ]
  },
  {
   "cell_type": "markdown",
   "metadata": {},
   "source": [
    "There are many fields with missing values; some will be replaced with zeros, but some (like DepTime and ArrTime) need to be investigated to understand if they are cancellations or errors."
   ]
  },
  {
   "cell_type": "code",
   "execution_count": 8,
   "metadata": {},
   "outputs": [
    {
     "data": {
      "text/plain": [
       "ATL    414513\n",
       "ORD    350380\n",
       "DFW    281281\n",
       "DEN    241443\n",
       "LAX    215608\n",
       "PHX    199408\n",
       "IAH    185172\n",
       "LAS    172876\n",
       "DTW    161989\n",
       "SFO    140587\n",
       "Name: Origin, dtype: int64"
      ]
     },
     "execution_count": 8,
     "metadata": {},
     "output_type": "execute_result"
    }
   ],
   "source": [
    "# Origin Airports\n",
    "df.Origin.value_counts()[0:10]"
   ]
  },
  {
   "cell_type": "code",
   "execution_count": 9,
   "metadata": {},
   "outputs": [
    {
     "data": {
      "text/plain": [
       "ATL    414521\n",
       "ORD    350452\n",
       "DFW    281401\n",
       "DEN    241470\n",
       "LAX    215685\n",
       "PHX    199416\n",
       "IAH    185160\n",
       "LAS    172871\n",
       "DTW    162000\n",
       "SFO    140579\n",
       "Name: Dest, dtype: int64"
      ]
     },
     "execution_count": 9,
     "metadata": {},
     "output_type": "execute_result"
    }
   ],
   "source": [
    "# Destination Airports\n",
    "df.Dest.value_counts()[0:10]"
   ]
  },
  {
   "cell_type": "code",
   "execution_count": 10,
   "metadata": {},
   "outputs": [
    {
     "data": {
      "text/plain": [
       "WN    1201754\n",
       "AA     604885\n",
       "OO     567159\n",
       "MQ     490693\n",
       "US     453589\n",
       "DL     451931\n",
       "UA     449515\n",
       "XE     374510\n",
       "NW     347652\n",
       "CO     298455\n",
       "EV     280575\n",
       "9E     262208\n",
       "FL     261684\n",
       "YV     254930\n",
       "OH     197607\n",
       "B6     196091\n",
       "AS     151102\n",
       "F9      95762\n",
       "HA      61826\n",
       "AQ       7800\n",
       "Name: UniqueCarrier, dtype: int64"
      ]
     },
     "execution_count": 10,
     "metadata": {},
     "output_type": "execute_result"
    }
   ],
   "source": [
    "# Unique Carrier Counts\n",
    "df.UniqueCarrier.value_counts()"
   ]
  },
  {
   "cell_type": "markdown",
   "metadata": {},
   "source": [
    "## Assessment for Cleaning Steps:<br/>\n",
    "DepTime, CRSDepTime, ArrTime, and CRSArrTime are floats/ints, but need to represent local, hhmm <br/>\n",
    "If no cancellation, CancellationCode should be E instead of NAN<br/>\n",
    "CarrierDelay, WeatherDelay, NASDelay, SecurityDelay, LateAircraftDelay should have 0 instead of NAN<br/>\n",
    "Need to understand how DepTime, ArrTime, and AirTime, ActualElapsedTime and CRSElapsedTime can be null - were those flights cancelled?<br/>"
   ]
  },
  {
   "cell_type": "markdown",
   "metadata": {},
   "source": [
    "### Data Cleaning Steps:\n",
    "Replace NaNs in CancellationCode with the letter 'E'"
   ]
  },
  {
   "cell_type": "code",
   "execution_count": 11,
   "metadata": {},
   "outputs": [
    {
     "data": {
      "text/plain": [
       "array([nan], dtype=object)"
      ]
     },
     "execution_count": 11,
     "metadata": {},
     "output_type": "execute_result"
    }
   ],
   "source": [
    "# Confirm that when a flight is NOT cancelled, the cancellation code is NaN\n",
    "df[df.Cancelled==0].CancellationCode.unique()"
   ]
  },
  {
   "cell_type": "code",
   "execution_count": 12,
   "metadata": {},
   "outputs": [],
   "source": [
    "# Fill CancellationCode NaN's with 'E' to match the rest of the codes\n",
    "values = {'CancellationCode': 'E'}\n",
    "df.fillna(value=values, inplace=True)"
   ]
  },
  {
   "cell_type": "code",
   "execution_count": 13,
   "metadata": {},
   "outputs": [
    {
     "data": {
      "text/plain": [
       "E    6872294\n",
       "B      54904\n",
       "A      54330\n",
       "C      28188\n",
       "D         12\n",
       "Name: CancellationCode, dtype: int64"
      ]
     },
     "execution_count": 13,
     "metadata": {},
     "output_type": "execute_result"
    }
   ],
   "source": [
    "# Check that all nulls are gone\n",
    "df.CancellationCode.value_counts(dropna=False)"
   ]
  },
  {
   "cell_type": "markdown",
   "metadata": {},
   "source": [
    "### Recast DepTime, CRSDepTime, ArrTime, and CRSArrTime as timestamps"
   ]
  },
  {
   "cell_type": "code",
   "execution_count": 14,
   "metadata": {},
   "outputs": [],
   "source": [
    "time_col = ['DepTime', 'CRSDepTime', 'ArrTime', 'CRSArrTime']\n",
    "# fill nulls with 9999 to distinguish from actual times\n",
    "values = {'DepTime': 9999, 'CRSDepTime': 9999, 'ArrTime': 9999, 'CRSArrTime': 9999}\n",
    "df.fillna(value=values, inplace=True)"
   ]
  },
  {
   "cell_type": "code",
   "execution_count": 15,
   "metadata": {},
   "outputs": [],
   "source": [
    "# convert values to strings\n",
    "df[time_col] = df[time_col].astype(int).astype(str)"
   ]
  },
  {
   "cell_type": "code",
   "execution_count": 16,
   "metadata": {},
   "outputs": [],
   "source": [
    "# front-pad strings with 0's so all strings have 4 digits for hh mm\n",
    "def padzero(s):\n",
    "    timel = len(s)\n",
    "    if timel < 4:\n",
    "        add0 = 4 - timel\n",
    "        return add0*'0'+s\n",
    "    else:\n",
    "        return s\n",
    "    \n",
    "for col in time_col:\n",
    "    df[col] = df[col].apply(lambda x: padzero(x))"
   ]
  },
  {
   "cell_type": "code",
   "execution_count": 17,
   "metadata": {},
   "outputs": [],
   "source": [
    "# convert to datetime with format '%H%M'.time()\n",
    "for col in time_col:\n",
    "    df[col] = pd.to_datetime(df[col], format='%H%M', errors='coerce').dt.time"
   ]
  },
  {
   "cell_type": "code",
   "execution_count": 18,
   "metadata": {},
   "outputs": [
    {
     "data": {
      "text/html": [
       "<div>\n",
       "<style scoped>\n",
       "    .dataframe tbody tr th:only-of-type {\n",
       "        vertical-align: middle;\n",
       "    }\n",
       "\n",
       "    .dataframe tbody tr th {\n",
       "        vertical-align: top;\n",
       "    }\n",
       "\n",
       "    .dataframe thead th {\n",
       "        text-align: right;\n",
       "    }\n",
       "</style>\n",
       "<table border=\"1\" class=\"dataframe\">\n",
       "  <thead>\n",
       "    <tr style=\"text-align: right;\">\n",
       "      <th></th>\n",
       "      <th>DepTime</th>\n",
       "      <th>CRSDepTime</th>\n",
       "      <th>ArrTime</th>\n",
       "      <th>CRSArrTime</th>\n",
       "    </tr>\n",
       "  </thead>\n",
       "  <tbody>\n",
       "    <tr>\n",
       "      <th>0</th>\n",
       "      <td>20:03:00</td>\n",
       "      <td>19:55:00</td>\n",
       "      <td>22:11:00</td>\n",
       "      <td>22:25:00</td>\n",
       "    </tr>\n",
       "    <tr>\n",
       "      <th>1</th>\n",
       "      <td>07:54:00</td>\n",
       "      <td>07:35:00</td>\n",
       "      <td>10:02:00</td>\n",
       "      <td>10:00:00</td>\n",
       "    </tr>\n",
       "    <tr>\n",
       "      <th>2</th>\n",
       "      <td>06:28:00</td>\n",
       "      <td>06:20:00</td>\n",
       "      <td>08:04:00</td>\n",
       "      <td>07:50:00</td>\n",
       "    </tr>\n",
       "    <tr>\n",
       "      <th>3</th>\n",
       "      <td>09:26:00</td>\n",
       "      <td>09:30:00</td>\n",
       "      <td>10:54:00</td>\n",
       "      <td>11:00:00</td>\n",
       "    </tr>\n",
       "    <tr>\n",
       "      <th>4</th>\n",
       "      <td>18:29:00</td>\n",
       "      <td>17:55:00</td>\n",
       "      <td>19:59:00</td>\n",
       "      <td>19:25:00</td>\n",
       "    </tr>\n",
       "    <tr>\n",
       "      <th>5</th>\n",
       "      <td>19:40:00</td>\n",
       "      <td>19:15:00</td>\n",
       "      <td>21:21:00</td>\n",
       "      <td>21:10:00</td>\n",
       "    </tr>\n",
       "    <tr>\n",
       "      <th>6</th>\n",
       "      <td>19:37:00</td>\n",
       "      <td>18:30:00</td>\n",
       "      <td>20:37:00</td>\n",
       "      <td>19:40:00</td>\n",
       "    </tr>\n",
       "    <tr>\n",
       "      <th>7</th>\n",
       "      <td>10:39:00</td>\n",
       "      <td>10:40:00</td>\n",
       "      <td>11:32:00</td>\n",
       "      <td>11:50:00</td>\n",
       "    </tr>\n",
       "    <tr>\n",
       "      <th>8</th>\n",
       "      <td>06:17:00</td>\n",
       "      <td>06:15:00</td>\n",
       "      <td>06:52:00</td>\n",
       "      <td>06:50:00</td>\n",
       "    </tr>\n",
       "    <tr>\n",
       "      <th>9</th>\n",
       "      <td>16:20:00</td>\n",
       "      <td>16:20:00</td>\n",
       "      <td>16:39:00</td>\n",
       "      <td>16:55:00</td>\n",
       "    </tr>\n",
       "    <tr>\n",
       "      <th>10</th>\n",
       "      <td>07:06:00</td>\n",
       "      <td>07:00:00</td>\n",
       "      <td>09:16:00</td>\n",
       "      <td>09:15:00</td>\n",
       "    </tr>\n",
       "    <tr>\n",
       "      <th>11</th>\n",
       "      <td>16:44:00</td>\n",
       "      <td>15:10:00</td>\n",
       "      <td>18:45:00</td>\n",
       "      <td>17:25:00</td>\n",
       "    </tr>\n",
       "    <tr>\n",
       "      <th>12</th>\n",
       "      <td>14:26:00</td>\n",
       "      <td>14:30:00</td>\n",
       "      <td>14:26:00</td>\n",
       "      <td>14:25:00</td>\n",
       "    </tr>\n",
       "    <tr>\n",
       "      <th>13</th>\n",
       "      <td>07:15:00</td>\n",
       "      <td>07:15:00</td>\n",
       "      <td>07:20:00</td>\n",
       "      <td>07:10:00</td>\n",
       "    </tr>\n",
       "    <tr>\n",
       "      <th>14</th>\n",
       "      <td>17:02:00</td>\n",
       "      <td>17:00:00</td>\n",
       "      <td>16:51:00</td>\n",
       "      <td>16:55:00</td>\n",
       "    </tr>\n",
       "    <tr>\n",
       "      <th>15</th>\n",
       "      <td>10:29:00</td>\n",
       "      <td>10:20:00</td>\n",
       "      <td>10:21:00</td>\n",
       "      <td>10:10:00</td>\n",
       "    </tr>\n",
       "    <tr>\n",
       "      <th>16</th>\n",
       "      <td>14:52:00</td>\n",
       "      <td>14:25:00</td>\n",
       "      <td>16:40:00</td>\n",
       "      <td>16:25:00</td>\n",
       "    </tr>\n",
       "    <tr>\n",
       "      <th>17</th>\n",
       "      <td>07:54:00</td>\n",
       "      <td>07:45:00</td>\n",
       "      <td>09:40:00</td>\n",
       "      <td>09:55:00</td>\n",
       "    </tr>\n",
       "    <tr>\n",
       "      <th>18</th>\n",
       "      <td>13:23:00</td>\n",
       "      <td>12:55:00</td>\n",
       "      <td>15:26:00</td>\n",
       "      <td>15:10:00</td>\n",
       "    </tr>\n",
       "    <tr>\n",
       "      <th>19</th>\n",
       "      <td>14:16:00</td>\n",
       "      <td>13:25:00</td>\n",
       "      <td>15:12:00</td>\n",
       "      <td>14:35:00</td>\n",
       "    </tr>\n",
       "    <tr>\n",
       "      <th>20</th>\n",
       "      <td>07:06:00</td>\n",
       "      <td>07:05:00</td>\n",
       "      <td>08:07:00</td>\n",
       "      <td>08:10:00</td>\n",
       "    </tr>\n",
       "    <tr>\n",
       "      <th>21</th>\n",
       "      <td>16:57:00</td>\n",
       "      <td>16:25:00</td>\n",
       "      <td>17:54:00</td>\n",
       "      <td>17:35:00</td>\n",
       "    </tr>\n",
       "    <tr>\n",
       "      <th>22</th>\n",
       "      <td>19:00:00</td>\n",
       "      <td>18:40:00</td>\n",
       "      <td>19:56:00</td>\n",
       "      <td>19:50:00</td>\n",
       "    </tr>\n",
       "    <tr>\n",
       "      <th>23</th>\n",
       "      <td>10:39:00</td>\n",
       "      <td>10:30:00</td>\n",
       "      <td>11:33:00</td>\n",
       "      <td>11:40:00</td>\n",
       "    </tr>\n",
       "    <tr>\n",
       "      <th>24</th>\n",
       "      <td>08:01:00</td>\n",
       "      <td>08:00:00</td>\n",
       "      <td>09:02:00</td>\n",
       "      <td>09:10:00</td>\n",
       "    </tr>\n",
       "    <tr>\n",
       "      <th>25</th>\n",
       "      <td>15:20:00</td>\n",
       "      <td>14:55:00</td>\n",
       "      <td>16:19:00</td>\n",
       "      <td>16:05:00</td>\n",
       "    </tr>\n",
       "    <tr>\n",
       "      <th>26</th>\n",
       "      <td>14:22:00</td>\n",
       "      <td>12:55:00</td>\n",
       "      <td>16:57:00</td>\n",
       "      <td>16:10:00</td>\n",
       "    </tr>\n",
       "    <tr>\n",
       "      <th>27</th>\n",
       "      <td>19:54:00</td>\n",
       "      <td>19:25:00</td>\n",
       "      <td>22:39:00</td>\n",
       "      <td>22:35:00</td>\n",
       "    </tr>\n",
       "    <tr>\n",
       "      <th>28</th>\n",
       "      <td>06:36:00</td>\n",
       "      <td>06:35:00</td>\n",
       "      <td>09:21:00</td>\n",
       "      <td>09:45:00</td>\n",
       "    </tr>\n",
       "    <tr>\n",
       "      <th>29</th>\n",
       "      <td>07:34:00</td>\n",
       "      <td>07:30:00</td>\n",
       "      <td>09:58:00</td>\n",
       "      <td>10:20:00</td>\n",
       "    </tr>\n",
       "    <tr>\n",
       "      <th>...</th>\n",
       "      <td>...</td>\n",
       "      <td>...</td>\n",
       "      <td>...</td>\n",
       "      <td>...</td>\n",
       "    </tr>\n",
       "    <tr>\n",
       "      <th>7009698</th>\n",
       "      <td>16:25:00</td>\n",
       "      <td>16:35:00</td>\n",
       "      <td>17:44:00</td>\n",
       "      <td>17:58:00</td>\n",
       "    </tr>\n",
       "    <tr>\n",
       "      <th>7009699</th>\n",
       "      <td>12:54:00</td>\n",
       "      <td>12:21:00</td>\n",
       "      <td>14:20:00</td>\n",
       "      <td>13:59:00</td>\n",
       "    </tr>\n",
       "    <tr>\n",
       "      <th>7009700</th>\n",
       "      <td>18:42:00</td>\n",
       "      <td>18:45:00</td>\n",
       "      <td>19:53:00</td>\n",
       "      <td>20:06:00</td>\n",
       "    </tr>\n",
       "    <tr>\n",
       "      <th>7009701</th>\n",
       "      <td>15:28:00</td>\n",
       "      <td>15:00:00</td>\n",
       "      <td>17:20:00</td>\n",
       "      <td>16:42:00</td>\n",
       "    </tr>\n",
       "    <tr>\n",
       "      <th>7009702</th>\n",
       "      <td>15:31:00</td>\n",
       "      <td>15:22:00</td>\n",
       "      <td>18:22:00</td>\n",
       "      <td>18:23:00</td>\n",
       "    </tr>\n",
       "    <tr>\n",
       "      <th>7009703</th>\n",
       "      <td>19:10:00</td>\n",
       "      <td>19:10:00</td>\n",
       "      <td>20:17:00</td>\n",
       "      <td>20:16:00</td>\n",
       "    </tr>\n",
       "    <tr>\n",
       "      <th>7009704</th>\n",
       "      <td>14:41:00</td>\n",
       "      <td>14:45:00</td>\n",
       "      <td>16:04:00</td>\n",
       "      <td>16:22:00</td>\n",
       "    </tr>\n",
       "    <tr>\n",
       "      <th>7009705</th>\n",
       "      <td>09:21:00</td>\n",
       "      <td>08:30:00</td>\n",
       "      <td>11:12:00</td>\n",
       "      <td>10:08:00</td>\n",
       "    </tr>\n",
       "    <tr>\n",
       "      <th>7009706</th>\n",
       "      <td>14:35:00</td>\n",
       "      <td>14:40:00</td>\n",
       "      <td>17:01:00</td>\n",
       "      <td>17:04:00</td>\n",
       "    </tr>\n",
       "    <tr>\n",
       "      <th>7009707</th>\n",
       "      <td>17:50:00</td>\n",
       "      <td>17:55:00</td>\n",
       "      <td>20:10:00</td>\n",
       "      <td>20:15:00</td>\n",
       "    </tr>\n",
       "    <tr>\n",
       "      <th>7009708</th>\n",
       "      <td>07:06:00</td>\n",
       "      <td>07:10:00</td>\n",
       "      <td>08:50:00</td>\n",
       "      <td>08:37:00</td>\n",
       "    </tr>\n",
       "    <tr>\n",
       "      <th>7009709</th>\n",
       "      <td>15:52:00</td>\n",
       "      <td>15:20:00</td>\n",
       "      <td>17:35:00</td>\n",
       "      <td>17:18:00</td>\n",
       "    </tr>\n",
       "    <tr>\n",
       "      <th>7009710</th>\n",
       "      <td>12:50:00</td>\n",
       "      <td>12:20:00</td>\n",
       "      <td>16:17:00</td>\n",
       "      <td>15:52:00</td>\n",
       "    </tr>\n",
       "    <tr>\n",
       "      <th>7009711</th>\n",
       "      <td>10:33:00</td>\n",
       "      <td>10:41:00</td>\n",
       "      <td>12:55:00</td>\n",
       "      <td>13:03:00</td>\n",
       "    </tr>\n",
       "    <tr>\n",
       "      <th>7009712</th>\n",
       "      <td>08:40:00</td>\n",
       "      <td>08:43:00</td>\n",
       "      <td>10:25:00</td>\n",
       "      <td>10:21:00</td>\n",
       "    </tr>\n",
       "    <tr>\n",
       "      <th>7009713</th>\n",
       "      <td>08:10:00</td>\n",
       "      <td>08:15:00</td>\n",
       "      <td>15:04:00</td>\n",
       "      <td>15:26:00</td>\n",
       "    </tr>\n",
       "    <tr>\n",
       "      <th>7009714</th>\n",
       "      <td>05:47:00</td>\n",
       "      <td>05:45:00</td>\n",
       "      <td>06:46:00</td>\n",
       "      <td>06:50:00</td>\n",
       "    </tr>\n",
       "    <tr>\n",
       "      <th>7009715</th>\n",
       "      <td>08:48:00</td>\n",
       "      <td>08:50:00</td>\n",
       "      <td>10:24:00</td>\n",
       "      <td>10:05:00</td>\n",
       "    </tr>\n",
       "    <tr>\n",
       "      <th>7009716</th>\n",
       "      <td>09:36:00</td>\n",
       "      <td>09:36:00</td>\n",
       "      <td>11:14:00</td>\n",
       "      <td>11:19:00</td>\n",
       "    </tr>\n",
       "    <tr>\n",
       "      <th>7009717</th>\n",
       "      <td>06:57:00</td>\n",
       "      <td>06:00:00</td>\n",
       "      <td>09:04:00</td>\n",
       "      <td>07:49:00</td>\n",
       "    </tr>\n",
       "    <tr>\n",
       "      <th>7009718</th>\n",
       "      <td>10:07:00</td>\n",
       "      <td>08:47:00</td>\n",
       "      <td>11:49:00</td>\n",
       "      <td>10:10:00</td>\n",
       "    </tr>\n",
       "    <tr>\n",
       "      <th>7009719</th>\n",
       "      <td>06:38:00</td>\n",
       "      <td>06:40:00</td>\n",
       "      <td>08:08:00</td>\n",
       "      <td>07:53:00</td>\n",
       "    </tr>\n",
       "    <tr>\n",
       "      <th>7009720</th>\n",
       "      <td>07:56:00</td>\n",
       "      <td>08:00:00</td>\n",
       "      <td>10:32:00</td>\n",
       "      <td>10:26:00</td>\n",
       "    </tr>\n",
       "    <tr>\n",
       "      <th>7009721</th>\n",
       "      <td>06:12:00</td>\n",
       "      <td>06:15:00</td>\n",
       "      <td>09:23:00</td>\n",
       "      <td>09:07:00</td>\n",
       "    </tr>\n",
       "    <tr>\n",
       "      <th>7009722</th>\n",
       "      <td>07:49:00</td>\n",
       "      <td>07:50:00</td>\n",
       "      <td>09:01:00</td>\n",
       "      <td>08:59:00</td>\n",
       "    </tr>\n",
       "    <tr>\n",
       "      <th>7009723</th>\n",
       "      <td>10:02:00</td>\n",
       "      <td>09:59:00</td>\n",
       "      <td>12:04:00</td>\n",
       "      <td>11:50:00</td>\n",
       "    </tr>\n",
       "    <tr>\n",
       "      <th>7009724</th>\n",
       "      <td>08:34:00</td>\n",
       "      <td>08:35:00</td>\n",
       "      <td>10:21:00</td>\n",
       "      <td>10:23:00</td>\n",
       "    </tr>\n",
       "    <tr>\n",
       "      <th>7009725</th>\n",
       "      <td>06:55:00</td>\n",
       "      <td>07:00:00</td>\n",
       "      <td>08:56:00</td>\n",
       "      <td>08:56:00</td>\n",
       "    </tr>\n",
       "    <tr>\n",
       "      <th>7009726</th>\n",
       "      <td>12:51:00</td>\n",
       "      <td>12:40:00</td>\n",
       "      <td>14:46:00</td>\n",
       "      <td>14:37:00</td>\n",
       "    </tr>\n",
       "    <tr>\n",
       "      <th>7009727</th>\n",
       "      <td>11:10:00</td>\n",
       "      <td>11:03:00</td>\n",
       "      <td>14:13:00</td>\n",
       "      <td>14:18:00</td>\n",
       "    </tr>\n",
       "  </tbody>\n",
       "</table>\n",
       "<p>7009728 rows × 4 columns</p>\n",
       "</div>"
      ],
      "text/plain": [
       "          DepTime CRSDepTime   ArrTime CRSArrTime\n",
       "0        20:03:00   19:55:00  22:11:00   22:25:00\n",
       "1        07:54:00   07:35:00  10:02:00   10:00:00\n",
       "2        06:28:00   06:20:00  08:04:00   07:50:00\n",
       "3        09:26:00   09:30:00  10:54:00   11:00:00\n",
       "4        18:29:00   17:55:00  19:59:00   19:25:00\n",
       "5        19:40:00   19:15:00  21:21:00   21:10:00\n",
       "6        19:37:00   18:30:00  20:37:00   19:40:00\n",
       "7        10:39:00   10:40:00  11:32:00   11:50:00\n",
       "8        06:17:00   06:15:00  06:52:00   06:50:00\n",
       "9        16:20:00   16:20:00  16:39:00   16:55:00\n",
       "10       07:06:00   07:00:00  09:16:00   09:15:00\n",
       "11       16:44:00   15:10:00  18:45:00   17:25:00\n",
       "12       14:26:00   14:30:00  14:26:00   14:25:00\n",
       "13       07:15:00   07:15:00  07:20:00   07:10:00\n",
       "14       17:02:00   17:00:00  16:51:00   16:55:00\n",
       "15       10:29:00   10:20:00  10:21:00   10:10:00\n",
       "16       14:52:00   14:25:00  16:40:00   16:25:00\n",
       "17       07:54:00   07:45:00  09:40:00   09:55:00\n",
       "18       13:23:00   12:55:00  15:26:00   15:10:00\n",
       "19       14:16:00   13:25:00  15:12:00   14:35:00\n",
       "20       07:06:00   07:05:00  08:07:00   08:10:00\n",
       "21       16:57:00   16:25:00  17:54:00   17:35:00\n",
       "22       19:00:00   18:40:00  19:56:00   19:50:00\n",
       "23       10:39:00   10:30:00  11:33:00   11:40:00\n",
       "24       08:01:00   08:00:00  09:02:00   09:10:00\n",
       "25       15:20:00   14:55:00  16:19:00   16:05:00\n",
       "26       14:22:00   12:55:00  16:57:00   16:10:00\n",
       "27       19:54:00   19:25:00  22:39:00   22:35:00\n",
       "28       06:36:00   06:35:00  09:21:00   09:45:00\n",
       "29       07:34:00   07:30:00  09:58:00   10:20:00\n",
       "...           ...        ...       ...        ...\n",
       "7009698  16:25:00   16:35:00  17:44:00   17:58:00\n",
       "7009699  12:54:00   12:21:00  14:20:00   13:59:00\n",
       "7009700  18:42:00   18:45:00  19:53:00   20:06:00\n",
       "7009701  15:28:00   15:00:00  17:20:00   16:42:00\n",
       "7009702  15:31:00   15:22:00  18:22:00   18:23:00\n",
       "7009703  19:10:00   19:10:00  20:17:00   20:16:00\n",
       "7009704  14:41:00   14:45:00  16:04:00   16:22:00\n",
       "7009705  09:21:00   08:30:00  11:12:00   10:08:00\n",
       "7009706  14:35:00   14:40:00  17:01:00   17:04:00\n",
       "7009707  17:50:00   17:55:00  20:10:00   20:15:00\n",
       "7009708  07:06:00   07:10:00  08:50:00   08:37:00\n",
       "7009709  15:52:00   15:20:00  17:35:00   17:18:00\n",
       "7009710  12:50:00   12:20:00  16:17:00   15:52:00\n",
       "7009711  10:33:00   10:41:00  12:55:00   13:03:00\n",
       "7009712  08:40:00   08:43:00  10:25:00   10:21:00\n",
       "7009713  08:10:00   08:15:00  15:04:00   15:26:00\n",
       "7009714  05:47:00   05:45:00  06:46:00   06:50:00\n",
       "7009715  08:48:00   08:50:00  10:24:00   10:05:00\n",
       "7009716  09:36:00   09:36:00  11:14:00   11:19:00\n",
       "7009717  06:57:00   06:00:00  09:04:00   07:49:00\n",
       "7009718  10:07:00   08:47:00  11:49:00   10:10:00\n",
       "7009719  06:38:00   06:40:00  08:08:00   07:53:00\n",
       "7009720  07:56:00   08:00:00  10:32:00   10:26:00\n",
       "7009721  06:12:00   06:15:00  09:23:00   09:07:00\n",
       "7009722  07:49:00   07:50:00  09:01:00   08:59:00\n",
       "7009723  10:02:00   09:59:00  12:04:00   11:50:00\n",
       "7009724  08:34:00   08:35:00  10:21:00   10:23:00\n",
       "7009725  06:55:00   07:00:00  08:56:00   08:56:00\n",
       "7009726  12:51:00   12:40:00  14:46:00   14:37:00\n",
       "7009727  11:10:00   11:03:00  14:13:00   14:18:00\n",
       "\n",
       "[7009728 rows x 4 columns]"
      ]
     },
     "execution_count": 18,
     "metadata": {},
     "output_type": "execute_result"
    }
   ],
   "source": [
    "# Check that all times are hours and minutes now\n",
    "df[time_col]"
   ]
  },
  {
   "cell_type": "markdown",
   "metadata": {},
   "source": [
    "## Remove rows where flight was not cancelled but there is no flight time"
   ]
  },
  {
   "cell_type": "code",
   "execution_count": 19,
   "metadata": {},
   "outputs": [
    {
     "data": {
      "text/plain": [
       "(6992463, 29)"
      ]
     },
     "execution_count": 19,
     "metadata": {},
     "output_type": "execute_result"
    }
   ],
   "source": [
    "# Indices where Cancelled = False and Elapsed Time is null\n",
    "to_remove = df[(df.Cancelled==0) & (df.ActualElapsedTime.isnull())].index\n",
    "# Remove these indices from the dataframe\n",
    "df.drop(index=to_remove, inplace=True)\n",
    "\n",
    "# Check if the shape changed correctly\n",
    "df.shape"
   ]
  },
  {
   "cell_type": "markdown",
   "metadata": {},
   "source": [
    "## Replace numeric nulls with 0\n"
   ]
  },
  {
   "cell_type": "code",
   "execution_count": 20,
   "metadata": {},
   "outputs": [
    {
     "data": {
      "text/plain": [
       "Index(['Year', 'Month', 'DayofMonth', 'DayOfWeek', 'FlightNum',\n",
       "       'ActualElapsedTime', 'CRSElapsedTime', 'AirTime', 'ArrDelay',\n",
       "       'DepDelay', 'Distance', 'TaxiIn', 'TaxiOut', 'Cancelled', 'Diverted',\n",
       "       'CarrierDelay', 'WeatherDelay', 'NASDelay', 'SecurityDelay',\n",
       "       'LateAircraftDelay'],\n",
       "      dtype='object')"
      ]
     },
     "execution_count": 20,
     "metadata": {},
     "output_type": "execute_result"
    }
   ],
   "source": [
    "# identify numeric nulls again\n",
    "numerics = ['int16', 'int32', 'int64', 'float16', 'float32', 'float64']\n",
    "\n",
    "num_col = df.select_dtypes(include=numerics).columns \n",
    "num_col"
   ]
  },
  {
   "cell_type": "code",
   "execution_count": 21,
   "metadata": {},
   "outputs": [
    {
     "data": {
      "text/plain": [
       "Year                      0\n",
       "Month                     0\n",
       "DayofMonth                0\n",
       "DayOfWeek                 0\n",
       "DepTime              136246\n",
       "CRSDepTime                0\n",
       "ArrTime              137434\n",
       "CRSArrTime                0\n",
       "UniqueCarrier             0\n",
       "FlightNum                 0\n",
       "TailNum               83358\n",
       "ActualElapsedTime    137434\n",
       "CRSElapsedTime          246\n",
       "AirTime              137434\n",
       "ArrDelay             137434\n",
       "DepDelay             136246\n",
       "Origin                    0\n",
       "Dest                      0\n",
       "Distance                  0\n",
       "TaxiIn               137434\n",
       "TaxiOut              137058\n",
       "Cancelled                 0\n",
       "CancellationCode          0\n",
       "Diverted                  0\n",
       "CarrierDelay         137434\n",
       "WeatherDelay         137434\n",
       "NASDelay             137434\n",
       "SecurityDelay        137434\n",
       "LateAircraftDelay    137434\n",
       "dtype: int64"
      ]
     },
     "execution_count": 21,
     "metadata": {},
     "output_type": "execute_result"
    }
   ],
   "source": [
    "# Check if nulls only occur when flights are cancelled\n",
    "df[df.Cancelled==1].isna().sum()"
   ]
  },
  {
   "cell_type": "code",
   "execution_count": 22,
   "metadata": {},
   "outputs": [
    {
     "data": {
      "text/plain": [
       "Year                       0\n",
       "Month                      0\n",
       "DayofMonth                 0\n",
       "DayOfWeek                  0\n",
       "DepTime                  521\n",
       "CRSDepTime                 0\n",
       "ArrTime                 2668\n",
       "CRSArrTime                 0\n",
       "UniqueCarrier              0\n",
       "FlightNum                  0\n",
       "TailNum                    5\n",
       "ActualElapsedTime          0\n",
       "CRSElapsedTime             0\n",
       "AirTime                    0\n",
       "ArrDelay                   0\n",
       "DepDelay                   0\n",
       "Origin                     0\n",
       "Dest                       0\n",
       "Distance                   0\n",
       "TaxiIn                     0\n",
       "TaxiOut                    0\n",
       "Cancelled                  0\n",
       "CancellationCode           0\n",
       "Diverted                   0\n",
       "CarrierDelay         5330294\n",
       "WeatherDelay         5330294\n",
       "NASDelay             5330294\n",
       "SecurityDelay        5330294\n",
       "LateAircraftDelay    5330294\n",
       "dtype: int64"
      ]
     },
     "execution_count": 22,
     "metadata": {},
     "output_type": "execute_result"
    }
   ],
   "source": [
    "# Identify nulls where flights were not cancelled\n",
    "df[df.Cancelled==0].isna().sum()"
   ]
  },
  {
   "cell_type": "code",
   "execution_count": 23,
   "metadata": {},
   "outputs": [],
   "source": [
    "# Delays and elapsed times and taxi times are replaced with zeros\n",
    "values = {'CarrierDelay':0, 'WeatherDelay':0, \n",
    "          'NASDelay':0, 'SecurityDelay':0, \n",
    "          'LateAircraftDelay':0, 'AirTime': 0,\n",
    "          'ArrDelay': 0, 'DepDelay': 0,\n",
    "          'TaxiIn': 0, 'TaxiOut': 0,\n",
    "          'ActualElapsedTime': 0, 'CRSElapsedTime': 0}\n",
    "df.fillna(value=values, inplace=True)\n",
    "\n",
    "# ArrTime and DepTime will be replaced with CRSArrTime and CRSDepTime respectively\n",
    "values2 = {'ArrTime': df['CRSArrTime'], 'DepTime': df['CRSDepTime']}\n",
    "df.fillna(value=values2, inplace=True)"
   ]
  },
  {
   "cell_type": "code",
   "execution_count": 24,
   "metadata": {},
   "outputs": [
    {
     "data": {
      "text/plain": [
       "Year                     0\n",
       "Month                    0\n",
       "DayofMonth               0\n",
       "DayOfWeek                0\n",
       "DepTime                  0\n",
       "CRSDepTime               0\n",
       "ArrTime                  0\n",
       "CRSArrTime               0\n",
       "UniqueCarrier            0\n",
       "FlightNum                0\n",
       "TailNum              83363\n",
       "ActualElapsedTime        0\n",
       "CRSElapsedTime           0\n",
       "AirTime                  0\n",
       "ArrDelay                 0\n",
       "DepDelay                 0\n",
       "Origin                   0\n",
       "Dest                     0\n",
       "Distance                 0\n",
       "TaxiIn                   0\n",
       "TaxiOut                  0\n",
       "Cancelled                0\n",
       "CancellationCode         0\n",
       "Diverted                 0\n",
       "CarrierDelay             0\n",
       "WeatherDelay             0\n",
       "NASDelay                 0\n",
       "SecurityDelay            0\n",
       "LateAircraftDelay        0\n",
       "dtype: int64"
      ]
     },
     "execution_count": 24,
     "metadata": {},
     "output_type": "execute_result"
    }
   ],
   "source": [
    "# Check for nulls - all clean except TailNum, which is not necessary for this analysis\n",
    "df.isna().sum()"
   ]
  },
  {
   "cell_type": "markdown",
   "metadata": {},
   "source": [
    "## Eliminate extra Origin Airport"
   ]
  },
  {
   "cell_type": "code",
   "execution_count": 25,
   "metadata": {},
   "outputs": [
    {
     "data": {
      "text/plain": [
       "{'PUB'}"
      ]
     },
     "execution_count": 25,
     "metadata": {},
     "output_type": "execute_result"
    }
   ],
   "source": [
    "# One extra Origin airport\n",
    "set(df.Origin.value_counts().index) - set(df.Dest.value_counts().index)"
   ]
  },
  {
   "cell_type": "code",
   "execution_count": 26,
   "metadata": {},
   "outputs": [
    {
     "data": {
      "text/html": [
       "<div>\n",
       "<style scoped>\n",
       "    .dataframe tbody tr th:only-of-type {\n",
       "        vertical-align: middle;\n",
       "    }\n",
       "\n",
       "    .dataframe tbody tr th {\n",
       "        vertical-align: top;\n",
       "    }\n",
       "\n",
       "    .dataframe thead th {\n",
       "        text-align: right;\n",
       "    }\n",
       "</style>\n",
       "<table border=\"1\" class=\"dataframe\">\n",
       "  <thead>\n",
       "    <tr style=\"text-align: right;\">\n",
       "      <th></th>\n",
       "      <th>Year</th>\n",
       "      <th>Month</th>\n",
       "      <th>DayofMonth</th>\n",
       "      <th>DayOfWeek</th>\n",
       "      <th>DepTime</th>\n",
       "      <th>CRSDepTime</th>\n",
       "      <th>ArrTime</th>\n",
       "      <th>CRSArrTime</th>\n",
       "      <th>UniqueCarrier</th>\n",
       "      <th>FlightNum</th>\n",
       "      <th>...</th>\n",
       "      <th>TaxiIn</th>\n",
       "      <th>TaxiOut</th>\n",
       "      <th>Cancelled</th>\n",
       "      <th>CancellationCode</th>\n",
       "      <th>Diverted</th>\n",
       "      <th>CarrierDelay</th>\n",
       "      <th>WeatherDelay</th>\n",
       "      <th>NASDelay</th>\n",
       "      <th>SecurityDelay</th>\n",
       "      <th>LateAircraftDelay</th>\n",
       "    </tr>\n",
       "  </thead>\n",
       "  <tbody>\n",
       "    <tr>\n",
       "      <th>3701794</th>\n",
       "      <td>2008</td>\n",
       "      <td>7</td>\n",
       "      <td>8</td>\n",
       "      <td>2</td>\n",
       "      <td>17:40:00</td>\n",
       "      <td>16:55:00</td>\n",
       "      <td>18:14:00</td>\n",
       "      <td>17:04:00</td>\n",
       "      <td>XE</td>\n",
       "      <td>104</td>\n",
       "      <td>...</td>\n",
       "      <td>5.0</td>\n",
       "      <td>18.0</td>\n",
       "      <td>0</td>\n",
       "      <td>E</td>\n",
       "      <td>0</td>\n",
       "      <td>0.0</td>\n",
       "      <td>45.0</td>\n",
       "      <td>25.0</td>\n",
       "      <td>0.0</td>\n",
       "      <td>0.0</td>\n",
       "    </tr>\n",
       "    <tr>\n",
       "      <th>3702095</th>\n",
       "      <td>2008</td>\n",
       "      <td>7</td>\n",
       "      <td>14</td>\n",
       "      <td>1</td>\n",
       "      <td>13:31:00</td>\n",
       "      <td>13:22:00</td>\n",
       "      <td>14:49:00</td>\n",
       "      <td>13:31:00</td>\n",
       "      <td>XE</td>\n",
       "      <td>117</td>\n",
       "      <td>...</td>\n",
       "      <td>8.0</td>\n",
       "      <td>41.0</td>\n",
       "      <td>0</td>\n",
       "      <td>E</td>\n",
       "      <td>0</td>\n",
       "      <td>0.0</td>\n",
       "      <td>9.0</td>\n",
       "      <td>69.0</td>\n",
       "      <td>0.0</td>\n",
       "      <td>0.0</td>\n",
       "    </tr>\n",
       "  </tbody>\n",
       "</table>\n",
       "<p>2 rows × 29 columns</p>\n",
       "</div>"
      ],
      "text/plain": [
       "         Year  Month  DayofMonth  DayOfWeek   DepTime CRSDepTime   ArrTime  \\\n",
       "3701794  2008      7           8          2  17:40:00   16:55:00  18:14:00   \n",
       "3702095  2008      7          14          1  13:31:00   13:22:00  14:49:00   \n",
       "\n",
       "        CRSArrTime UniqueCarrier  FlightNum        ...         TaxiIn  \\\n",
       "3701794   17:04:00            XE        104        ...            5.0   \n",
       "3702095   13:31:00            XE        117        ...            8.0   \n",
       "\n",
       "         TaxiOut  Cancelled  CancellationCode  Diverted  CarrierDelay  \\\n",
       "3701794     18.0          0                 E         0           0.0   \n",
       "3702095     41.0          0                 E         0           0.0   \n",
       "\n",
       "        WeatherDelay NASDelay  SecurityDelay  LateAircraftDelay  \n",
       "3701794         45.0     25.0            0.0                0.0  \n",
       "3702095          9.0     69.0            0.0                0.0  \n",
       "\n",
       "[2 rows x 29 columns]"
      ]
     },
     "execution_count": 26,
     "metadata": {},
     "output_type": "execute_result"
    }
   ],
   "source": [
    "# Only two examples == neglibile for this analysis\n",
    "df[df.Origin=='PUB']"
   ]
  },
  {
   "cell_type": "code",
   "execution_count": 27,
   "metadata": {},
   "outputs": [],
   "source": [
    "# Remove unnecessary rows with PUB airport\n",
    "df = df[df.Origin!='PUB']"
   ]
  },
  {
   "cell_type": "markdown",
   "metadata": {},
   "source": [
    "## Exploratory Data Analysis <br/>\n",
    "### Over-arching Question: What are the causes of cancellations, and can we avoid getting on a cancelled flight?<br/>\n",
    "How many flights were cancelled in 2008?<br/>\n",
    "What is the most common reason for cancellation?<br/>\n",
    "Where do cancellations occur?<br/>\n",
    "When do the most delays occur?\n",
    "Month? Day? Hour?<br/>\n",
    "Does a certain carrier have more cancellations?<br/>"
   ]
  },
  {
   "cell_type": "markdown",
   "metadata": {},
   "source": [
    "### Cancelled vs Not Cancelled Flights"
   ]
  },
  {
   "cell_type": "code",
   "execution_count": 28,
   "metadata": {},
   "outputs": [
    {
     "data": {
      "text/plain": [
       "0    6855027\n",
       "1     137434\n",
       "Name: Cancelled, dtype: int64"
      ]
     },
     "execution_count": 28,
     "metadata": {},
     "output_type": "execute_result"
    }
   ],
   "source": [
    "cc = df['Cancelled'].value_counts()\n",
    "cc"
   ]
  },
  {
   "cell_type": "code",
   "execution_count": 29,
   "metadata": {},
   "outputs": [
    {
     "data": {
      "image/png": "[encoded data removed]",
      "text/plain": [
       "<Figure size 432x288 with 1 Axes>"
      ]
     },
     "metadata": {
      "needs_background": "light"
     },
     "output_type": "display_data"
    }
   ],
   "source": [
    "base_color = sb.color_palette()[0]\n",
    "ax = sb.countplot(data = df, x = 'Cancelled', \n",
    "             color = base_color);\n",
    "plt.ylim([0, 7500000])\n",
    "\n",
    "# add annotations\n",
    "n = df.shape[0]\n",
    "cat_counts = df['Cancelled'].value_counts()\n",
    "locs, labels = plt.xticks() # get the current tick locations and labels\n",
    "cat_counts\n",
    "# loop through each pair of locations and labels\n",
    "for loc, label in zip(locs, labels):\n",
    "    # get the text property for the label to get the correct count\n",
    "    count = cat_counts[int(label.get_text())]\n",
    "    ct_string = '{:0.2f}%'.format(count/n)\n",
    "    plt.text(loc, count+100000, ct_string, ha = 'center', color = 'k')\n",
    "    \n",
    "plt.xticks([0, 1], ['Not Cancelled', 'Cancelled']);\n",
    "plt.title('Distribution of Cancellations by Code', fontsize=15);"
   ]
  },
  {
   "cell_type": "markdown",
   "metadata": {},
   "source": [
    "A large majority of flights were successful, while only a small number were cancelled. We'll mainly focus on just the cancelled flights (or relative number of cancelled flights by category) to see if we can determine where (by airline) most flights are cancelled, why (by cancellation code), and when (by month)."
   ]
  },
  {
   "cell_type": "markdown",
   "metadata": {},
   "source": [
    "#### Subsets of Cancelled or Not Cancelled Flights"
   ]
  },
  {
   "cell_type": "code",
   "execution_count": 30,
   "metadata": {},
   "outputs": [
    {
     "name": "stdout",
     "output_type": "stream",
     "text": [
      "There were 137434 cancelled flights out of 6992461 total flights in 2008\n"
     ]
    }
   ],
   "source": [
    "# Create a subset of the data for cancelled flights:\n",
    "df_cancelled = df.query('(Cancelled==1)')\n",
    "df_notcancelled = df.query('(Cancelled==0)')\n",
    "print('There were {:0.0f} cancelled flights out of {:0.0f} total flights in 2008'.format(df_cancelled.shape[0], df.shape[0]))"
   ]
  },
  {
   "cell_type": "markdown",
   "metadata": {},
   "source": [
    "#### Distribution of Cancellation Codes"
   ]
  },
  {
   "cell_type": "code",
   "execution_count": 31,
   "metadata": {},
   "outputs": [
    {
     "data": {
      "image/png": "[encoded data removed]",
      "text/plain": [
       "<Figure size 864x576 with 1 Axes>"
      ]
     },
     "metadata": {
      "needs_background": "light"
     },
     "output_type": "display_data"
    }
   ],
   "source": [
    "plt.figure(figsize=(12,8));\n",
    "# Distribution of cancellation codes\n",
    "cancel_codes = ['Carrier', 'NAS', 'Weather', 'Security']\n",
    "locs = range(4)\n",
    "base_color = sb.color_palette()[0]\n",
    "ax = sb.countplot(data = df_cancelled, x = 'CancellationCode', \n",
    "             color = base_color);\n",
    "\n",
    "# add annotations\n",
    "n_points = df_cancelled.shape[0]\n",
    "cat_counts = df_cancelled['CancellationCode'].value_counts()\n",
    "locs, labels = plt.xticks() # get the current tick locations and labels\n",
    "\n",
    "# loop through each pair of locations and labels\n",
    "for loc, label in zip(locs, labels):\n",
    "    # get the text property for the label to get the correct count\n",
    "    count = cat_counts[label.get_text()]\n",
    "    pct_string = '{:0.2f}%'.format(100*count/n_points)\n",
    "    if count > 2000:\n",
    "        # print the annotation just below the top of the bar\n",
    "        plt.text(loc, 0.9*count, pct_string, ha = 'center', color = 'w')\n",
    "    else:\n",
    "        plt.text(loc, 1000, pct_string, ha = 'center', color = base_color)\n",
    "    \n",
    "plt.xticks(locs, cancel_codes);\n",
    "plt.title('Cancellations by Code\\nCount and Percent of Total Cancellations', fontsize=15);"
   ]
  },
  {
   "cell_type": "markdown",
   "metadata": {},
   "source": [
    "Carrier and Weather are nearly tied for the most common causes of cancellations. Security makes up only 0.01% of all cancellations, while NAS falls somewhere in the middle at about 1/5 of all cancellations. It may be interesting to see if Carrier and Weather are also correlated with Origin Airports, such that airports in certain locations are more susceptible to poor weather and typically fly planes from certain carriers."
   ]
  },
  {
   "cell_type": "markdown",
   "metadata": {},
   "source": [
    "### Flights Cancelled by Origin Airport"
   ]
  },
  {
   "cell_type": "code",
   "execution_count": 32,
   "metadata": {},
   "outputs": [
    {
     "data": {
      "image/png": "[encoded data removed]",
      "text/plain": [
       "<Figure size 864x576 with 1 Axes>"
      ]
     },
     "metadata": {
      "needs_background": "light"
     },
     "output_type": "display_data"
    }
   ],
   "source": [
    "# Cancellations by Airports - most cancellations\n",
    "base_color = sb.color_palette()[0]\n",
    "\n",
    "top = (df_cancelled.Origin.value_counts()[0:15].index)\n",
    "plt.figure(figsize=(12,8))\n",
    "ax = sb.countplot(data = df_cancelled[df_cancelled.Origin.isin(top)], x='Origin', \n",
    "             color = base_color, order=top);\n",
    "plt.title('Top 15 Most Cancellations by Origin Airport', fontsize=15);"
   ]
  },
  {
   "cell_type": "code",
   "execution_count": 33,
   "metadata": {},
   "outputs": [
    {
     "data": {
      "image/png": "[encoded data removed]",
      "text/plain": [
       "<Figure size 864x576 with 2 Axes>"
      ]
     },
     "metadata": {
      "needs_background": "light"
     },
     "output_type": "display_data"
    }
   ],
   "source": [
    "# % Cancelled Flights for the Top 15 Origina Airports with most cancellations\n",
    "# ie. for each airport, the percentage of cancelled flights relative to that airport's total flights\n",
    "# top = airport labels\n",
    "top = (df_cancelled.Origin.value_counts()[0:15].index)\n",
    "fig, ax1 = plt.subplots(figsize=(12,8))\n",
    "\n",
    "ax1 = sb.countplot(data = df_cancelled[df_cancelled.Origin.isin(top)], x='Origin', \n",
    "             color = base_color, order=top);\n",
    "\n",
    "n_points = df[df.Origin.isin(top)].Origin.value_counts().values\n",
    "n_cancels = df_cancelled[df_cancelled.Origin.isin(top)].Origin.value_counts().values\n",
    "locs = range(15)\n",
    "locslabs = sorted(zip(locs, top, n_cancels, n_points), key=lambda x: x[1])\n",
    "\n",
    "plt.title('Number of Cancelled Flights\\nand Percent of Cancelled Flights\\n by Origin Airport', fontsize=15);\n",
    "ax1.set_ylabel('Number Flights Cancelled by Airport', color='k')  # we already handled the x-label with ax1\n",
    "\n",
    "ax2 = ax1.twinx()  # instantiate a second axes that shares the same x-axis\n",
    "pct_cnl = 100* n_cancels/ n_points\n",
    "# locs remains the same\n",
    "ax2.plot(locs, pct_cnl, color='r', marker='.')\n",
    "ax2.set_ylabel('Percent Flights Cancelled by Airport', color='r')  # we already handled the x-label with ax1\n",
    "ax2.tick_params(axis='y', labelcolor='r')\n",
    "for loc, label, can, tot in locslabs:\n",
    "    pct_str = '{:0.2f}%'.format(100*can/tot)\n",
    "    plt.text(loc, 100*can/tot+0.03, pct_str, ha='center', color='k')"
   ]
  },
  {
   "cell_type": "code",
   "execution_count": 34,
   "metadata": {},
   "outputs": [
    {
     "data": {
      "image/png": "[encoded data removed]",
      "text/plain": [
       "<Figure size 864x576 with 1 Axes>"
      ]
     },
     "metadata": {
      "needs_background": "light"
     },
     "output_type": "display_data"
    }
   ],
   "source": [
    "# Cancellations by Airports and codes - most cancellations\n",
    "base_color = sb.color_palette()[0]\n",
    "\n",
    "top = (df_cancelled.Origin.value_counts()[0:15].index)\n",
    "plt.figure(figsize=(12,8))\n",
    "ax = sb.countplot(data = df_cancelled[df_cancelled.Origin.isin(top)], x='Origin', \n",
    "             hue = 'CancellationCode', order=top);\n",
    "plt.title('Top 15 Most Cancellations by Origin Airport\\nBy Cancellation Code', fontsize=15);\n",
    "\n",
    "plt.legend(['Carrier','NAS','Weather','Security']);"
   ]
  },
  {
   "cell_type": "markdown",
   "metadata": {},
   "source": [
    "Although NAS can refer to weather as well, we will keep NAS and Weather separate and will distinguish the two, knowing that Weather related to Extreme Weather, while NAS may be more common weather scenarios. Aside from Chicago (ORD) and Newark (EWR), most of the top volume airports experience cancellations due to Carrier and Weather issues. However, considering that Chicago and Newark often experience snow during the winter, many of their NAS cancellations may also be caused by weather."
   ]
  },
  {
   "cell_type": "markdown",
   "metadata": {},
   "source": [
    "## When do Cancelled flights occur?\n",
    "##### By Month"
   ]
  },
  {
   "cell_type": "code",
   "execution_count": 35,
   "metadata": {},
   "outputs": [
    {
     "data": {
      "image/png": "[encoded data removed]",
      "text/plain": [
       "<Figure size 720x576 with 1 Axes>"
      ]
     },
     "metadata": {
      "needs_background": "light"
     },
     "output_type": "display_data"
    }
   ],
   "source": [
    "plt.figure(figsize=(10,8))\n",
    "sb.countplot(data=df, x='Month', color=base_color);\n",
    "plt.title(\"Number of Total Flights Per Month\", fontsize=15);\n",
    "plt.ylabel(\"Count of Flights\");"
   ]
  },
  {
   "cell_type": "code",
   "execution_count": 36,
   "metadata": {},
   "outputs": [
    {
     "data": {
      "image/png": "[encoded data removed]",
      "text/plain": [
       "<Figure size 720x576 with 1 Axes>"
      ]
     },
     "metadata": {
      "needs_background": "light"
     },
     "output_type": "display_data"
    }
   ],
   "source": [
    "# Cancellations by month\n",
    "plt.figure(figsize=(10,8))\n",
    "sb.countplot(data=df_cancelled, x='Month', color=base_color);\n",
    "\n",
    "tot_flights = df.Month.value_counts().sort_index().values\n",
    "can_flights = df_cancelled.Month.value_counts().sort_index().values\n",
    "locs = range(1,13)\n",
    "locslabs = zip(locs, can_flights, tot_flights)\n",
    "\n",
    "for loc, can, tot in locslabs:\n",
    "    pct = 100*can/tot\n",
    "    pct_str = '{:0.2f}%'.format(pct)\n",
    "    plt.text(loc-1, pct*1000, pct_str, ha='center', color='w')\n",
    "    \n",
    "# plt.plot();\n",
    "# plt.legend(['Percent Cancelled'], markerfirst=False, facecolor='w', scatterpoints=0);\n",
    "plt.ylabel('Number of Cancelled Flights');\n",
    "plt.xlabel('Month of Year');\n",
    "plt.title('Number of Cancelled Flights\\n and Percent of Cancelled Flights\\n per Month', fontsize=15);"
   ]
  },
  {
   "cell_type": "markdown",
   "metadata": {},
   "source": [
    "The most cancellations and the highest percentage of cancellations occur over the months of December, January, February, and March. This aligns with the findings above that most cancellations are related to weather or carrier. It would be interesting to see what types of cancellations occur during each month."
   ]
  },
  {
   "cell_type": "code",
   "execution_count": 37,
   "metadata": {},
   "outputs": [
    {
     "name": "stderr",
     "output_type": "stream",
     "text": [
      "C:\\Users\\modhi\\Anaconda3\\lib\\site-packages\\ipykernel_launcher.py:5: SettingWithCopyWarning: \n",
      "A value is trying to be set on a copy of a slice from a DataFrame.\n",
      "Try using .loc[row_indexer,col_indexer] = value instead\n",
      "\n",
      "See the caveats in the documentation: http://pandas.pydata.org/pandas-docs/stable/indexing.html#indexing-view-versus-copy\n",
      "  \"\"\"\n"
     ]
    },
    {
     "data": {
      "image/png": "[encoded data removed]",
      "text/plain": [
       "<Figure size 864x216 with 4 Axes>"
      ]
     },
     "metadata": {
      "needs_background": "light"
     },
     "output_type": "display_data"
    }
   ],
   "source": [
    "# Cancellation codes by month\n",
    "df_cancelled['CancellationReason'] = df_cancelled['CancellationCode'].replace({'A': 'Carrier',\n",
    "                                                              'B': 'Weather',\n",
    "                                                               'C': 'NAS',\n",
    "                                                                 'D': 'Security'})\n",
    "                                                                 \n",
    "g = sb.FacetGrid(df_cancelled, col=\"CancellationReason\") \n",
    "g = g.map(sb.countplot, \"Month\", order=[1,2,3,4,5,6,7,8,9,10,11,12]).set_titles(\"{col_name}\")"
   ]
  },
  {
   "cell_type": "markdown",
   "metadata": {},
   "source": [
    "In the US, the most common delays over the winter/holiday months seems to be due to weather, followed by carrier, which is fairly consistent across all other months. NAS causes fewer cancellations, but also has slightly higher volumes during the winter months, which could also relate back to the weather sub-reason. Since there are only 12 examples of Security reasons causing cancellations those results are negligible."
   ]
  },
  {
   "cell_type": "markdown",
   "metadata": {},
   "source": [
    "##### By Day of Week"
   ]
  },
  {
   "cell_type": "code",
   "execution_count": 38,
   "metadata": {},
   "outputs": [
    {
     "data": {
      "image/png": "[encoded data removed]",
      "text/plain": [
       "<Figure size 864x216 with 4 Axes>"
      ]
     },
     "metadata": {
      "needs_background": "light"
     },
     "output_type": "display_data"
    }
   ],
   "source": [
    "# Day of Week for Each Cancellation Code\n",
    "g = sb.FacetGrid(df_cancelled, col=\"CancellationReason\") \n",
    "g = g.map(sb.countplot, \"DayOfWeek\", order=[1,2,3,4,5,6,7]).set_titles(\"{col_name}\")"
   ]
  },
  {
   "cell_type": "markdown",
   "metadata": {},
   "source": [
    "Overall, there is not much of a difference between week days in terms of cancellations or cancellation codes. Saturday and Sunday have fewer flights in general, which leads them to have fewer cancellations relative to week days."
   ]
  },
  {
   "cell_type": "markdown",
   "metadata": {},
   "source": [
    "##### By Hour of Scheduled Departure"
   ]
  },
  {
   "cell_type": "code",
   "execution_count": 49,
   "metadata": {},
   "outputs": [],
   "source": [
    "df['CRSDepTimeHour'] = df.CRSDepTime.apply(lambda x: x.hour)"
   ]
  },
  {
   "cell_type": "code",
   "execution_count": 50,
   "metadata": {},
   "outputs": [
    {
     "data": {
      "image/png": "[encoded data removed]",
      "text/plain": [
       "<Figure size 864x576 with 1 Axes>"
      ]
     },
     "metadata": {
      "needs_background": "light"
     },
     "output_type": "display_data"
    }
   ],
   "source": [
    "plt.figure(figsize=(12,8))\n",
    "\n",
    "n_points_can = df[df.Cancelled==1].CRSDepTimeHour.value_counts().sort_index().values\n",
    "n_cancels = df[df.Cancelled==1].shape[0]\n",
    "pct_can = n_points_can / n_cancels*100\n",
    "\n",
    "n_points = df[df.Cancelled==0].CRSDepTimeHour.value_counts().sort_index().values\n",
    "n_nocan = df[df.Cancelled==0].shape[0]\n",
    "pct_nocan = n_points / n_nocan*100\n",
    "locs = range(24)\n",
    "\n",
    "plt.bar(x=locs, height=pct_can, label='Cancelled', alpha=0.5);\n",
    "plt.bar(x=locs, height=pct_nocan, label='Not Cancelled', alpha=0.5);\n",
    "plt.legend();\n",
    "\n",
    "plt.title('Percent Cancelled and Not Cancelled Flights\\nby Hour of Scheduled Departure', fontsize=15);\n",
    "plt.ylabel('Percent of Flights', color='k');  # we already handled the x-label with ax1'''"
   ]
  },
  {
   "cell_type": "markdown",
   "metadata": {},
   "source": [
    "Most flights occur between 5am and 8pm, with a slightly higher percentage of cancellations occurring during the evening hours of 2pm to 8pm. This cannot truly be connected back to weather or carrier cancellations, but may have something to do with a decrease in visibility as the sun begins to go down after noon."
   ]
  },
  {
   "cell_type": "markdown",
   "metadata": {},
   "source": [
    "### Cancellations by Unique Carrier"
   ]
  },
  {
   "cell_type": "code",
   "execution_count": 44,
   "metadata": {},
   "outputs": [
    {
     "data": {
      "text/plain": [
       "20"
      ]
     },
     "execution_count": 44,
     "metadata": {},
     "output_type": "execute_result"
    }
   ],
   "source": [
    "len(df.UniqueCarrier.value_counts().index)"
   ]
  },
  {
   "cell_type": "code",
   "execution_count": 45,
   "metadata": {},
   "outputs": [
    {
     "data": {
      "image/png": "[encoded data removed]",
      "text/plain": [
       "<Figure size 864x576 with 1 Axes>"
      ]
     },
     "metadata": {
      "needs_background": "light"
     },
     "output_type": "display_data"
    }
   ],
   "source": [
    "\n",
    "plt.figure(figsize=(12,8))\n",
    "\n",
    "n_points_can = df[df.Cancelled==1].UniqueCarrier.value_counts().sort_index().values\n",
    "n_cancels = df[df.Cancelled==1].shape[0]\n",
    "pct_can = n_points_can / n_cancels*100\n",
    "\n",
    "n_points = df[df.Cancelled==0].UniqueCarrier.value_counts().sort_index().values\n",
    "n_nocan = df[df.Cancelled==0].shape[0]\n",
    "pct_nocan = n_points / n_nocan*100\n",
    "locs = np.arange(0,20,1)\n",
    "\n",
    "plt.bar(x=locs, height=pct_can, label='Cancelled', alpha=0.5);\n",
    "plt.bar(x=locs, height=pct_nocan, label='Not Cancelled', alpha=0.5);\n",
    "plt.legend();\n",
    "plt.xticks(locs, list(df.UniqueCarrier.value_counts().index));\n",
    "\n",
    "plt.title('Percent Cancelled and Not Cancelled Flights\\nby Unique Carrier', fontsize=15);\n",
    "plt.ylabel('Percent of Flights', color='k');  # we already handled the x-label with ax1"
   ]
  },
  {
   "cell_type": "code",
   "execution_count": 46,
   "metadata": {},
   "outputs": [
    {
     "data": {
      "image/png": "[encoded data removed]",
      "text/plain": [
       "<Figure size 864x576 with 1 Axes>"
      ]
     },
     "metadata": {
      "needs_background": "light"
     },
     "output_type": "display_data"
    }
   ],
   "source": [
    "plt.figure(figsize=(12,8))\n",
    "\n",
    "n_points_can = df[df.Cancelled==1].UniqueCarrier.value_counts().sort_index().values\n",
    "n_points = df[df.Cancelled==0].UniqueCarrier.value_counts().sort_index().values\n",
    "pct_can = n_points_can / n_points*100\n",
    "\n",
    "locs = np.arange(0,20,1)\n",
    "\n",
    "plt.bar(x=locs, height=pct_can, label='Cancelled');\n",
    "plt.xticks(locs, list(df.UniqueCarrier.value_counts().index));\n",
    "\n",
    "plt.title('Percent Cancelled Flights by Unique Carrier', fontsize=15);\n",
    "plt.ylabel('Percent of Flights', color='k');"
   ]
  },
  {
   "cell_type": "markdown",
   "metadata": {},
   "source": [
    "Some carriers have a higher percentage of cancellations than others: WN, AA, 9E, YV, OH, B6, HA, AQ. These may be interesting to examine closer and see if they correlate with the cancellation code, time, distance, or departing airports which also exhibited more cancellations relatively."
   ]
  },
  {
   "cell_type": "code",
   "execution_count": 47,
   "metadata": {},
   "outputs": [
    {
     "data": {
      "image/png": "[encoded data removed]",
      "text/plain": [
       "<Figure size 864x576 with 1 Axes>"
      ]
     },
     "metadata": {
      "needs_background": "light"
     },
     "output_type": "display_data"
    }
   ],
   "source": [
    "# Cancellations by Carriers and codes \n",
    "base_color = sb.color_palette()[0]\n",
    "\n",
    "top = (df_cancelled.UniqueCarrier.value_counts().index)\n",
    "plt.figure(figsize=(12,8))\n",
    "ax = sb.countplot(data = df_cancelled, x='UniqueCarrier', \n",
    "             hue = 'CancellationReason');\n",
    "plt.title('Cancellations by Carrier\\nBy Cancellation Code', fontsize=15);"
   ]
  },
  {
   "cell_type": "code",
   "execution_count": 48,
   "metadata": {},
   "outputs": [
    {
     "data": {
      "image/png": "[encoded data removed]",
      "text/plain": [
       "<Figure size 864x576 with 2 Axes>"
      ]
     },
     "metadata": {
      "needs_background": "light"
     },
     "output_type": "display_data"
    }
   ],
   "source": [
    "# Cancellations due to Carrier and Carriers - Summation\n",
    "plt.figure(figsize=(12,8))\n",
    "df_sub = df_cancelled[['UniqueCarrier','CancellationCode','Cancelled']]\n",
    "df_subpiv = df_sub.pivot_table(index='CancellationCode', columns='UniqueCarrier', \n",
    "                               values='Cancelled', fill_value=0, aggfunc='sum')\n",
    "ax = sb.heatmap(df_subpiv, cmap='GnBu', linewidths=0.01);\n",
    "locs,labels = plt.yticks();\n",
    "plt.yticks(locs, ['Carrier', 'Weather','NAS','Security'], rotation=0);"
   ]
  },
  {
   "cell_type": "markdown",
   "metadata": {},
   "source": [
    "### Conclusions<br/>\n",
    "After comparing cancellations to various flight aspects one by one, we can narrow down the leading factors of cancellation to a few factors, with some that overlap each other. The main contributing factors are month of the year, origin airport, carrier, and distance, with the leading causes being weather, carrier, and in part, NAS (National Aviation Service). Beginning with time of year, the most cancellations (and highest percentage of cancellations) occurred during the months of December, January, February, and March. Within those months, the majority of cancelled flights were cancelled due to weather; overall, most flights were cancelled due to weather, carrier, then NAS, with NAS also including a sub-reason related to weather. Weather cancellations during winter months seems to make sense, as snow storms in the US can be extreme enough to ground flights. Narrowing in on these higher volumes of cancelled flights, we begin to see that they are also tied to origin airports, carriers, and distance. These three other factors are also correlated with each other; each airport only supports certain carriers and certain destinations, while each carrier only goes to certain airports, which also limits the destinations to which carriers can travel. Altogether, the corresponding limits on origin-carrier-distance combinations lend themselves to an overall correlation to location and weather, which is one of the leading causes of cancellations, as well as carrier, which is another leading cause of cancellations. We can narrow down the most predictive features of cancelled flights by finding the combinations of month, origin airport, carrier, and distance (or technically also destination) where the highest percentages of cancellations fall.\n",
    "\n",
    "Luckily, cancellations made up a very small percentage of all flights during 2008 (only about 0.02% of almost 7 million total flights), and an even smaller number actually spent time on the tarmac, so in general, you had to be very unlucky to actually step onto a flight that wouldn't successfully take off.\n",
    "\n",
    "Because this dataset only covers flights from one year, we cannot make any assumptions about predictions or yearly trends, but we can get a good idea of where to look in future broader analyses.\n"
   ]
  },
  {
   "cell_type": "code",
   "execution_count": 51,
   "metadata": {},
   "outputs": [],
   "source": [
    "df.to_csv('cleaned_flights.csv')"
   ]
  },
  {
   "cell_type": "code",
   "execution_count": null,
   "metadata": {},
   "outputs": [],
   "source": []
  }
 ],
 "metadata": {
  "kernelspec": {
   "display_name": "Python 3",
   "language": "python",
   "name": "python3"
  },
  "language_info": {
   "codemirror_mode": {
    "name": "ipython",
    "version": 3
   },
   "file_extension": ".py",
   "mimetype": "text/x-python",
   "name": "python",
   "nbconvert_exporter": "python",
   "pygments_lexer": "ipython3",
   "version": "3.6.9"
  }
 },
 "nbformat": 4,
 "nbformat_minor": 4
}
